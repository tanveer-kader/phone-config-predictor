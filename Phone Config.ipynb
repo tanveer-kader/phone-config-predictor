{
 "cells": [
  {
   "cell_type": "code",
   "execution_count": 1,
   "id": "63299186",
   "metadata": {},
   "outputs": [],
   "source": [
    "import pandas\n",
    "data = pandas.read_csv('train.csv')"
   ]
  },
  {
   "cell_type": "code",
   "execution_count": 2,
   "id": "a7f891b2",
   "metadata": {
    "scrolled": false
   },
   "outputs": [
    {
     "name": "stdout",
     "output_type": "stream",
     "text": [
      "   battery_power  bluetooth  clock_speed  dual_sim  font_cam  4G  int_memory  \\\n",
      "0            842          0          2.2         0         1   0           7   \n",
      "1           1021          1          0.5         1         0   1          53   \n",
      "2            563          1          0.5         1         2   1          41   \n",
      "\n",
      "   m_dep  mobile_wt  n_cores     ...       px_height  px_width   ram  sc_h  \\\n",
      "0    0.6        188        2     ...              20       756  2549     9   \n",
      "1    0.7        136        3     ...             905      1988  2631    17   \n",
      "2    0.9        145        5     ...            1263      1716  2603    11   \n",
      "\n",
      "   sc_w  talk_time  3G  touch_screen  wifi  price_range  \n",
      "0     7         19   0             0     1            1  \n",
      "1     3          7   1             1     0            2  \n",
      "2     2          9   1             1     0            2  \n",
      "\n",
      "[3 rows x 21 columns]\n"
     ]
    }
   ],
   "source": [
    "print(data.head(3))"
   ]
  },
  {
   "cell_type": "code",
   "execution_count": 3,
   "id": "e152e0ce",
   "metadata": {},
   "outputs": [
    {
     "name": "stdout",
     "output_type": "stream",
     "text": [
      "21\n"
     ]
    }
   ],
   "source": [
    "features = ['battery_power', 'bluetooth','clock_speed', 'dual_sim', 'font_cam', '4G', 'int_memory', 'm_dep', 'mobile_wt', 'n_cores', 'pc', 'px_height', 'px_width', 'ram', 'sc_h', 'sc_w', 'talk_time', '3G', 'touch_screen', 'wifi', 'price_range']\n",
    "print(len(features))"
   ]
  },
  {
   "cell_type": "code",
   "execution_count": 4,
   "id": "609b366a",
   "metadata": {},
   "outputs": [
    {
     "name": "stdout",
     "output_type": "stream",
     "text": [
      "Enter the features you want to predict\n",
      " 1. Battery\n",
      " 2. Bluetooth\n",
      " 3. Clock Speed\n",
      " 4. Dual Sim\n",
      " 5. Front Camera\n",
      " 6. 4G\n",
      " 7. Internal Memory\n",
      " 8. Mobile Depth(cm)\n",
      " 9. Weight\n",
      " 10. Number of Cores\n",
      " 11. Primary Camera\n",
      " 12. Pixel Resolution Height\n",
      " 13. Pixel Resolution Width\n",
      " 14. RAM\n",
      " 15. Screen Height\n",
      " 16. Screen Width\n",
      " 17. Talk Time\n",
      " 18. 3G\n",
      " 19. Touch Screen\n",
      " 20. WiFi\n",
      " 21. Price Range\n"
     ]
    }
   ],
   "source": [
    "print('Enter the features you want to predict')\n",
    "print(' 1. Battery\\n 2. Bluetooth\\n 3. Clock Speed\\n 4. Dual Sim\\n 5. Front Camera\\n 6. 4G\\n 7. Internal Memory\\n 8. Mobile Depth(cm)\\n 9. Weight\\n 10. Number of Cores\\n 11. Primary Camera\\n 12. Pixel Resolution Height\\n 13. Pixel Resolution Width\\n 14. RAM\\n 15. Screen Height\\n 16. Screen Width\\n 17. Talk Time\\n 18. 3G\\n 19. Touch Screen\\n 20. WiFi\\n 21. Price Range')\n"
   ]
  },
  {
   "cell_type": "code",
   "execution_count": 5,
   "id": "e9572805",
   "metadata": {},
   "outputs": [
    {
     "name": "stdout",
     "output_type": "stream",
     "text": [
      "Enter the number1\n"
     ]
    }
   ],
   "source": [
    "chosen_f1 = int(input(\"Enter the number\"))-1"
   ]
  },
  {
   "cell_type": "code",
   "execution_count": 6,
   "id": "589504e4",
   "metadata": {},
   "outputs": [
    {
     "name": "stdout",
     "output_type": "stream",
     "text": [
      "Enter the number5\n"
     ]
    }
   ],
   "source": [
    "chosen_f2 = int(input(\"Enter the number\"))-1"
   ]
  },
  {
   "cell_type": "code",
   "execution_count": 7,
   "id": "e6298774",
   "metadata": {},
   "outputs": [
    {
     "name": "stdout",
     "output_type": "stream",
     "text": [
      "1094\n",
      "[842, 1021, 563, 615, 1821, 1859, 1954, 1445, 509, 769, 1520, 1815, 803, 1866, 775, 838, 595, 1131, 682, 772, 1709, 1949, 1602, 503, 961, 519, 956, 1453, 851, 1579, 1568, 1319, 1310, 644, 725, 589, 1725, 790, 560, 1347, 1646, 1253, 1656, 1195, 1514, 1723, 1054, 578, 596, 1547, 1760, 1654, 1457, 1073, 1936, 823, 987, 1757, 1063, 1484, 799, 1156, 1720, 702, 616, 1358, 1242, 1166, 1448, 1407, 605, 1038, 797, 819, 1114, 1234, 1199, 1103, 1589, 999, 1510, 1008, 1127, 1412, 1496, 1083, 668, 1309, 1724, 1977, 885, 879, 1322, 1137, 1355, 1665, 657, 593, 1883, 1732, 543, 1939, 553, 832, 1661, 1657, 1135, 1775, 783, 617, 867, 1804, 1900, 909, 1084, 1308, 1778, 1701, 825, 1379, 1659, 826, 1564, 1957, 1571, 1414, 1790, 645, 1652, 1213, 1272, 866, 536, 523, 1753, 1218, 1537, 786, 1678, 1814, 1101, 1461, 1216, 506, 843, 742, 1692, 1485, 637, 1224, 1356, 1840, 1481, 1296, 1193, 1441, 517, 748, 1126, 1572, 1569, 1270, 1854, 625, 1577, 534, 946, 685, 947, 801, 703, 1165, 1082, 959, 1502, 1380, 1266, 1934, 1905, 1831, 1562, 1490, 1523, 640, 1526, 1989, 609, 1703, 1087, 671, 1472, 765, 1642, 1265, 664, 1277, 1395, 1539, 1049, 1827, 903, 1987, 1154, 1336, 1886, 1551, 850, 660, 1225, 1452, 1686, 1634, 1708, 1151, 1578, 1689, 1488, 1313, 1715, 1442, 528, 1133, 1718, 1330, 1799, 633, 724, 822, 1918, 1891, 1373, 862, 1273, 957, 1617, 893, 1210, 708, 835, 1450, 973, 601, 507, 564, 1559, 754, 728, 1431, 767, 1722, 1992, 1876, 1283, 1281, 1066, 730, 1053, 1611, 793, 1220, 1662, 538, 1733, 1429, 1839, 659, 1953, 1172, 612, 1563, 1191, 1893, 1995, 1517, 1162, 1595, 1329, 928, 1937, 977, 768, 1464, 1177, 1348, 1956, 1751, 1530, 1997, 1707, 894, 1163, 1648, 1170, 508, 1097, 1980, 1504, 1698, 920, 1144, 1430, 972, 662, 1867, 1730, 1882, 580, 1391, 1560, 821, 811, 1034, 618, 654, 576, 667, 869, 635, 1557, 1604, 1182, 848, 1610, 1828, 880, 1394, 1960, 809, 899, 1976, 916, 763, 1864, 1108, 1011, 1067, 1334, 1899, 930, 1058, 1187, 1874, 1482, 1809, 864, 1880, 1138, 1117, 1712, 1836, 1036, 1860, 1375, 1945, 1896, 788, 1323, 1868, 1042, 1479, 1476, 1552, 1454, 1007, 652, 1726, 1029, 1582, 1478, 1178, 707, 755, 912, 651, 1483, 914, 1456, 1503, 1681, 715, 1190, 1755, 1197, 1048, 1887, 1772, 1421, 954, 853, 1469, 902, 1631, 1608, 1991, 1349, 1844, 712, 1406, 1289, 932, 1747, 1128, 513, 1742, 1512, 1986, 965, 1583, 1653, 1433, 1845, 752, 1948, 1077, 1968, 1122, 1588, 1615, 1417, 1697, 1089, 1663, 1889, 857, 1902, 1554, 1337, 1926, 1278, 1773, 1438, 1846, 1260, 512, 581, 1872, 687, 1062, 1074, 1832, 1039, 1059, 1606, 1928, 1875, 1748, 1413, 535, 1780, 1671, 1076, 532, 777, 1217, 1185, 577, 737, 704, 525, 504, 569, 1590, 1350, 641, 1002, 1408, 726, 1544, 1230, 1519, 723, 1168, 1229, 1758, 1290, 574, 1271, 1269, 1288, 1366, 1627, 1974, 587, 934, 1853, 1164, 1232, 1813, 739, 1966, 1219, 1658, 1263, 621, 1175, 561, 1835, 1719, 1770, 1312, 1878, 1871, 922, 1975, 1212, 1958, 557, 539, 1369, 1109, 598, 1944, 1919, 501, 1620, 1227, 1359, 1914, 1645, 1231, 1397, 701, 570, 1993, 955, 924, 600, 518, 1841, 1762, 1112, 709, 1315, 1462, 571, 666, 1994, 966, 568, 1897, 1695, 1623, 1721, 890, 1677, 638, 852, 1979, 710, 1027, 1793, 675, 658, 1694, 804, 1713, 706, 1362, 1527, 1314, 705, 1403, 1486, 781, 986, 1567, 1940, 1717, 1254, 1591, 1640, 663, 1744, 1624, 1188, 817, 863, 1068, 1702, 808, 696, 1981, 614, 1807, 984, 720, 1536, 771, 1303, 1004, 1972, 1822, 1159, 1782, 1884, 798, 802, 1276, 1331, 1996, 1092, 1018, 545, 554, 1264, 1030, 1432, 558, 829, 1741, 1849, 733, 1149, 891, 1911, 550, 969, 1160, 827, 1786, 774, 1368, 1592, 1892, 915, 1848, 1501, 1614, 911, 1647, 967, 1204, 1320, 1800, 1439, 1422, 1929, 1511, 1852, 691, 807, 1113, 721, 805, 918, 1236, 1387, 839, 1593, 1788, 1628, 1965, 833, 1808, 1161, 787, 854, 1184, 1973, 510, 1907, 1489, 1843, 1286, 840, 757, 814, 994, 1550, 623, 1829, 1065, 1425, 642, 1664, 1498, 981, 1673, 603, 1332, 1064, 1444, 906, 841, 878, 1132, 1181, 1497, 1549, 1372, 1005, 989, 1983, 868, 1205, 1284, 626, 1763, 694, 816, 904, 979, 1531, 874, 1558, 582, 764, 743, 1061, 1428, 674, 1625, 907, 1584, 1382, 1745, 1754, 1596, 1660, 1861, 648, 1910, 1923, 1345, 1239, 516, 672, 892, 1130, 1597, 1046, 1035, 1261, 1688, 559, 860, 1090, 686, 818, 1777, 594, 1524, 511, 1402, 919, 1963, 1881, 683, 1633, 1371, 551, 1221, 1000, 1119, 1699, 1099, 1576, 950, 1081, 606, 502, 1632, 1696, 688, 1104, 1727, 1674, 531, 1057, 673, 718, 547, 812, 980, 643, 1925, 1522, 1959, 1043, 1095, 1540, 1342, 1189, 1449, 530, 1044, 1869, 1655, 1245, 846, 741, 1672, 514, 1396, 1542, 745, 1735, 586, 1341, 1970, 1545, 1729, 680, 1106, 831, 1528, 1447, 1344, 921, 1285, 1635, 1851, 727, 877, 1009, 1587, 865, 1930, 1268, 622, 1250, 1100, 815, 1031, 1136, 1300, 732, 1299, 1129, 1487, 1093, 1816, 627, 1895, 713, 1898, 1158, 1451, 1820, 1237, 1515, 1426, 1215, 697, 717, 1971, 1794, 1240, 1180, 1670, 1566, 1935, 913, 1317, 917, 1796, 740, 676, 1020, 896, 1824, 1174, 875, 1370, 991, 584, 1541, 1365, 1644, 871, 888, 1023, 1142, 1901, 1924, 1825, 1275, 1538, 1507, 948, 1384, 1766, 1811, 1988, 1423, 1446, 1398, 1885, 1436, 1998, 1321, 1339, 882, 796, 1012, 1318, 541, 1616, 1071, 1842, 1420, 1805, 610, 1533, 1801, 794, 1325, 1328, 1731, 1791, 856, 714, 951, 1759, 908, 820, 1333, 1352, 1600, 1823, 1581, 630, 1933, 1006, 1134, 599, 1392, 602, 1249, 1404, 1927, 1714, 1201, 1147, 776, 1045, 1638, 1150, 1806, 1834, 520, 565, 1143, 761, 1015, 1183, 881, 1186, 1575, 1343, 834, 844, 1335, 1650, 963, 1837, 1028, 970, 1070, 1908, 1776, 1410, 1280, 1110, 1211, 940, 729, 1494, 1546, 895, 1856, 1202, 1171, 964, 546, 1765, 1830, 1206, 1179, 744, 1148, 1676, 1001, 1086, 634, 1641, 962, 1862, 555, 1194, 1561, 1768, 936, 855, 1307, 1509, 1208, 1812, 770, 1416, 1003, 1967, 1146, 1630, 1125, 1470, 1826, 1521, 1603, 695, 1890, 1152, 1619, 1306, 1424, 942, 1922, 548, 1783, 1969, 1248, 1010, 990, 1982, 1607, 681, 753, 1779, 1855, 731, 926, 1938, 995, 993, 719, 1946, 579, 1072, 1492, 1251, 636, 1354, 583, 1203, 527, 873, 722, 628, 1207, 537, 1565, 1052, 837, 935, 665, 1493, 925, 958, 897, 1680, 983, 592, 689, 1685, 1792, 649, 1920, 1961, 608, 1802, 591, 1367, 1075, 684, 1361, 1259, 759, 1176, 1056, 1405, 1749, 1279, 544, 590, 1327, 1906, 1667, 1913, 1157, 1784, 1262, 1139, 1467, 858]\n"
     ]
    }
   ],
   "source": [
    "cnt = 0\n",
    "uf1 = []\n",
    "for i in range(0, len(data[features[chosen_f1]])):\n",
    "    if data[features[chosen_f1]][i] not in uf1:\n",
    "        uf1.append(data[features[chosen_f1]][i])\n",
    "        cnt += 1\n",
    "print(cnt)\n",
    "print(uf1)"
   ]
  },
  {
   "cell_type": "code",
   "execution_count": 8,
   "id": "1b6e5665",
   "metadata": {},
   "outputs": [],
   "source": [
    "n1 = []\n",
    "X1 = list(data.iloc[:, chosen_f1])\n",
    "\n",
    "for i in uf1:\n",
    "    c = X1.count(i)\n",
    "    n1.append(c)\n"
   ]
  },
  {
   "cell_type": "code",
   "execution_count": 9,
   "id": "8039b3a3",
   "metadata": {
    "scrolled": true
   },
   "outputs": [
    {
     "data": {
      "image/png": "[encoded data removed]",
      "text/plain": [
       "<Figure size 432x288 with 1 Axes>"
      ]
     },
     "metadata": {
      "needs_background": "light"
     },
     "output_type": "display_data"
    }
   ],
   "source": [
    "import matplotlib.pyplot as plt\n",
    "\n",
    "plt.bar(uf1, n1)\n",
    "plt.title(features[chosen_f1])\n",
    "plt.xlabel(features[chosen_f1])\n",
    "plt.ylabel(\"Numbers of \" + features[chosen_f1])\n",
    "plt.show()"
   ]
  },
  {
   "cell_type": "code",
   "execution_count": 10,
   "id": "db4dde76",
   "metadata": {},
   "outputs": [
    {
     "name": "stdout",
     "output_type": "stream",
     "text": [
      "20\n",
      "[1, 0, 2, 13, 3, 4, 5, 7, 11, 12, 16, 6, 15, 8, 9, 10, 18, 17, 14, 19]\n"
     ]
    }
   ],
   "source": [
    "cnt = 0\n",
    "uf2 = []\n",
    "for i in range(0, len(data[features[chosen_f2]])):\n",
    "    if data[features[chosen_f2]][i] not in uf2:\n",
    "        uf2.append(data[features[chosen_f2]][i])\n",
    "        cnt += 1\n",
    "print(cnt)\n",
    "print(uf2)"
   ]
  },
  {
   "cell_type": "code",
   "execution_count": 11,
   "id": "50143c1e",
   "metadata": {},
   "outputs": [],
   "source": [
    "n2 = []\n",
    "X2 = list(data.iloc[:, chosen_f2])\n",
    "\n",
    "for i in uf2:\n",
    "    c = X2.count(i)\n",
    "    n2.append(c)\n"
   ]
  },
  {
   "cell_type": "code",
   "execution_count": 12,
   "id": "76c82267",
   "metadata": {
    "scrolled": true
   },
   "outputs": [
    {
     "data": {
      "image/png": "[encoded data removed]",
      "text/plain": [
       "<Figure size 432x288 with 1 Axes>"
      ]
     },
     "metadata": {
      "needs_background": "light"
     },
     "output_type": "display_data"
    }
   ],
   "source": [
    "import matplotlib.pyplot as plt\n",
    "\n",
    "plt.bar(uf2, n2)\n",
    "plt.title(features[chosen_f2])\n",
    "plt.xlabel(features[chosen_f2])\n",
    "plt.ylabel(\"Numbers of \" + features[chosen_f2])\n",
    "plt.show()"
   ]
  },
  {
   "cell_type": "code",
   "execution_count": 13,
   "id": "96f8761d",
   "metadata": {
    "scrolled": true
   },
   "outputs": [
    {
     "data": {
      "text/plain": [
       "LinearRegression(copy_X=True, fit_intercept=True, n_jobs=None,\n",
       "         normalize=False)"
      ]
     },
     "execution_count": 13,
     "metadata": {},
     "output_type": "execute_result"
    }
   ],
   "source": [
    "from sklearn.linear_model import LinearRegression\n",
    "model = LinearRegression()\n",
    "model.fit(data[[features[chosen_f1]]], data[[features[chosen_f2]]])"
   ]
  },
  {
   "cell_type": "code",
   "execution_count": 14,
   "id": "a2e35ee1",
   "metadata": {},
   "outputs": [
    {
     "name": "stdout",
     "output_type": "stream",
     "text": [
      "[[4.2968142]]\n"
     ]
    }
   ],
   "source": [
    "print(model.predict([[1200]]))"
   ]
  },
  {
   "cell_type": "code",
   "execution_count": null,
   "id": "4f237ad9",
   "metadata": {},
   "outputs": [],
   "source": []
  },
  {
   "cell_type": "code",
   "execution_count": null,
   "id": "8759703b",
   "metadata": {},
   "outputs": [],
   "source": []
  }
 ],
 "metadata": {
  "kernelspec": {
   "display_name": "Python 3 (ipykernel)",
   "language": "python",
   "name": "python3"
  },
  "language_info": {
   "codemirror_mode": {
    "name": "ipython",
    "version": 3
   },
   "file_extension": ".py",
   "mimetype": "text/x-python",
   "name": "python",
   "nbconvert_exporter": "python",
   "pygments_lexer": "ipython3",
   "version": "3.7.11"
  }
 },
 "nbformat": 4,
 "nbformat_minor": 5
}
